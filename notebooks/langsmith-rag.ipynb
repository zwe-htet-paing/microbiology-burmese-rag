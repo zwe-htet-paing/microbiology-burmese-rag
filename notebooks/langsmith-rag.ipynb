{
 "cells": [
  {
   "cell_type": "code",
   "execution_count": null,
   "id": "afe82994",
   "metadata": {},
   "outputs": [],
   "source": [
    "import os\n",
    "os.environ[\"OPENAI_API_KEY\"] = \"\"\n",
    "os.environ[\"LANGSMITH_API_KEY\"] = \"\"\n",
    "os.environ[\"LANGSMITH_TRACING\"] = \"true\"\n",
    "os.environ[\"LANGSMITH_PROJECT\"] = \"microbiology-assistance-burmese\""
   ]
  },
  {
   "cell_type": "code",
   "execution_count": null,
   "id": "381cf1f6",
   "metadata": {},
   "outputs": [
    {
     "data": {
      "text/plain": [
       "True"
      ]
     },
     "execution_count": 2,
     "metadata": {},
     "output_type": "execute_result"
    }
   ],
   "source": [
    "from dotenv import load_dotenv\n",
    "load_dotenv(dotenv_path=\"../.env\", override=True)"
   ]
  },
  {
   "cell_type": "code",
   "execution_count": 3,
   "id": "d39f716d",
   "metadata": {},
   "outputs": [],
   "source": [
    "# os.environ.get(\"OPENAI_API_KEY\")"
   ]
  },
  {
   "cell_type": "code",
   "execution_count": 1,
   "id": "3ca84032",
   "metadata": {},
   "outputs": [],
   "source": [
    "from langsmith import traceable\n",
    "from openai import OpenAI\n",
    "from typing import List\n",
    "import nest_asyncio\n",
    "from utils import get_vector_db_retriever"
   ]
  },
  {
   "cell_type": "code",
   "execution_count": 2,
   "id": "862a0652",
   "metadata": {},
   "outputs": [],
   "source": [
    "MODEL_PROVIDER = \"openai\"\n",
    "MODEL_NAME = \"gpt-4o-mini\"\n",
    "APP_VERSION = 1.0"
   ]
  },
  {
   "cell_type": "code",
   "execution_count": 3,
   "id": "5311e9ee",
   "metadata": {},
   "outputs": [],
   "source": [
    "RAG_SYSTEM_PROMPT = \"\"\"You are a helpful assistant for Question-Answering tasks.\n",
    "User questions may be written in English or Burmese.\n",
    "Always translate your final response into **Burmese only**.\n",
    "If you don’t know the answer, say so in Burmese.\n",
    "Keep answers concise (no more than 3 sentences).\n",
    "\"\"\""
   ]
  },
  {
   "cell_type": "code",
   "execution_count": 14,
   "id": "932fa9a8",
   "metadata": {},
   "outputs": [],
   "source": [
    "RAG_SYSTEM_PROMPT = \"\"\"You are an expert Burmese-language assistant specializing in question-answering tasks.\n",
    "\n",
    "## CORE INSTRUCTIONS:\n",
    "- Analyze the retrieved context carefully to provide accurate answers\n",
    "- Accept questions in both English and Burmese languages\n",
    "- **ALWAYS respond exclusively in Burmese** regardless of the question language\n",
    "- Maintain conversation context and refer to previous exchanges when relevant\n",
    "- Handle follow-up questions by linking them to the original question and previous answers, unless new context explicitly overrides\n",
    "\n",
    "## RESPONSE GUIDELINES:\n",
    "1. **Answer Structure**: Provide direct, factual responses based solely on the retrieved context\n",
    "2. **Length**: Keep responses concise (maximum 3 sentences)\n",
    "3. **Accuracy**: Only answer what you can confidently derive from the provided context\n",
    "4. **Unknown Information**: If the context doesn't contain sufficient information, clearly state in Burmese:  \n",
    "   **\"ပေးထားသော အချက်အလက်များတွင် ဤမေးခွန်းအတွက် လုံလောက်သော အဖြေမရှိပါ။\"**\n",
    "\n",
    "## CONTEXT USAGE:\n",
    "- Prioritize the most recent and relevant context pieces\n",
    "- Synthesize information from multiple context sources when applicable\n",
    "- Cite specific details from context when providing factual claims\n",
    "- When the user asks a follow-up question, use both the **original question** and the **previous answer** to interpret their intent\n",
    "- Do not add information not present in the retrieved context\n",
    "\n",
    "## RESPONSE QUALITY:\n",
    "- Use natural, fluent Burmese language\n",
    "- Adapt tone to match the question's formality level\n",
    "- Provide helpful clarifications when the context allows\n",
    "- Structure complex answers with clear logical flow\n",
    "\n",
    "## FALLBACK BEHAVIOR:\n",
    "If no relevant context is provided or the context is insufficient:  \n",
    "**\"ပေးထားသော အချက်အလက်များကို အခြေခံ၍ ဤမေးခွန်းကို မဖြေနိုင်ပါ။ ပိုမိုတိကျသော အချက်အလက်များ လိုအပ်ပါသည်။\"**\n",
    "\n",
    "Remember: Your primary goal is to be a reliable, accurate, and helpful Burmese-language assistant that provides contextually grounded responses.\n",
    "\"\"\"\n"
   ]
  },
  {
   "cell_type": "code",
   "execution_count": 5,
   "id": "64a659e7",
   "metadata": {},
   "outputs": [],
   "source": [
    "openai_client = OpenAI()\n",
    "nest_asyncio.apply()\n",
    "retriever = get_vector_db_retriever()"
   ]
  },
  {
   "cell_type": "code",
   "execution_count": 6,
   "id": "a12dc77e",
   "metadata": {},
   "outputs": [],
   "source": [
    "@traceable(\n",
    "    run_type=\"chain\",\n",
    "    metadata={'vectordb': 'sklearn'}\n",
    ")\n",
    "def retrieve_documents(question: str):\n",
    "    return retriever.invoke(question)"
   ]
  },
  {
   "cell_type": "code",
   "execution_count": 7,
   "id": "af3235db",
   "metadata": {},
   "outputs": [],
   "source": [
    "@traceable(\n",
    "    run_type=\"llm\",\n",
    "    metadata={\n",
    "        'model_provider': MODEL_PROVIDER,\n",
    "        'model_name': MODEL_NAME,\n",
    "    }\n",
    ")\n",
    "def call_openai(messages: List[dict], model: str = MODEL_NAME, temperature: float = 0.0) -> str:\n",
    "    return openai_client.chat.completions.create(\n",
    "        model=model,\n",
    "        messages=messages,\n",
    "        temperature=temperature\n",
    "    )"
   ]
  },
  {
   "cell_type": "code",
   "execution_count": 8,
   "id": "307fb1d5",
   "metadata": {},
   "outputs": [],
   "source": [
    "@traceable(run_type=\"chain\")\n",
    "def generate_response(question: str, documents):\n",
    "    formatted_docs = \"\\n\\n\".join(doc.page_content for doc in documents)\n",
    "    messages = [\n",
    "        {\n",
    "            \"role\": \"system\",\n",
    "            \"content\": RAG_SYSTEM_PROMPT\n",
    "        },\n",
    "        {\n",
    "            \"role\": \"user\",\n",
    "            \"content\": f\"Context: {formatted_docs}\\nQuestion: {question}\"\n",
    "        }\n",
    "    ]\n",
    "    \n",
    "    return call_openai(messages)"
   ]
  },
  {
   "cell_type": "code",
   "execution_count": 9,
   "id": "116eba1d",
   "metadata": {},
   "outputs": [],
   "source": [
    "@traceable(run_type=\"chain\")\n",
    "def langsmith_rag(question: str):\n",
    "    documents = retrieve_documents(question)\n",
    "    response = generate_response(question, documents)\n",
    "    return response.choices[0].message.content"
   ]
  },
  {
   "cell_type": "code",
   "execution_count": 10,
   "id": "0b5a5c97",
   "metadata": {},
   "outputs": [
    {
     "name": "stdout",
     "output_type": "stream",
     "text": [
      "အဏုဇီဝဗေဒ MicroBiology သည် မျက်စိဖြင့် မမြင်နိုင်သော အဏုဇီဝ သက်ရှိများကို လေ့လာသည့် သိပ္ပံပညာရပ် ဖြစ်သည် ။ ဤပညာရပ်တွင် ဘက်တီးရီးယား ၊ ဗိုင်းရစ်၊ မှို၊ နှင့် protozoa များကို အဓိက လေ့လာသည် ။\n"
     ]
    }
   ],
   "source": [
    "question = \"အဏုဇီဝဗေဒ ဆိုတာ ဘာလဲ\"\n",
    "ai_answer = langsmith_rag(question, langsmith_extra={\"metadata\": {\"runtime_metadata\": \"foo\"}})\n",
    "print(ai_answer)"
   ]
  },
  {
   "cell_type": "code",
   "execution_count": 11,
   "id": "ca81be32",
   "metadata": {},
   "outputs": [],
   "source": [
    "import uuid\n",
    "thread_id = uuid.uuid4()"
   ]
  },
  {
   "cell_type": "code",
   "execution_count": 12,
   "id": "7a6a7d34",
   "metadata": {},
   "outputs": [
    {
     "name": "stdout",
     "output_type": "stream",
     "text": [
      "Bacteria သည် prokaryotic cell ဖြစ်ပြီး၊ နျူကလိယပ် အမြှေးပါး မရှိပါ။ ၎င်းတွင် cell wall၊ cell membrane၊ cytoplasm နှင့် ribosomes များ ပါဝင်သည်။ အချို့တွင် flagella သို့မဟုတ် pili လည်း ရှိနိုင်သည်။\n"
     ]
    }
   ],
   "source": [
    "question = \"Bacteria ၏ ဖွဲ့စည်းပုံ\"\n",
    "ai_answer = langsmith_rag(question, langsmith_extra={\"metadata\": {\"thread_id\": thread_id}})\n",
    "print(ai_answer)"
   ]
  },
  {
   "cell_type": "code",
   "execution_count": 13,
   "id": "f4400ccc",
   "metadata": {},
   "outputs": [
    {
     "name": "stdout",
     "output_type": "stream",
     "text": [
      "အဏုဇီဝဗေဒ MicroBiology သည် မျက်စိဖြင့် မမြင်နိုင်သော အဏုဇီဝ သက်ရှိများကို လေ့လာသည့် သိပ္ပံပညာရပ် ဖြစ်သည် ။ ဤပညာရပ်တွင် ဘက်တီးရီးယား ၊ ဗိုင်းရစ်၊ မှို၊ နှင့် protozoa များကို အဓိက လေ့လာသည် ။\n"
     ]
    }
   ],
   "source": [
    "question = \"အဏုဇီဝဗေဒ ဆိုတာ ဘာလဲ\"\n",
    "ai_answer = langsmith_rag(question, langsmith_extra={\"metadata\": {\"thread_id\": thread_id}})\n",
    "print(ai_answer)"
   ]
  },
  {
   "cell_type": "code",
   "execution_count": null,
   "id": "48b22fa0",
   "metadata": {},
   "outputs": [],
   "source": []
  }
 ],
 "metadata": {
  "kernelspec": {
   "display_name": "langchain",
   "language": "python",
   "name": "python3"
  },
  "language_info": {
   "codemirror_mode": {
    "name": "ipython",
    "version": 3
   },
   "file_extension": ".py",
   "mimetype": "text/x-python",
   "name": "python",
   "nbconvert_exporter": "python",
   "pygments_lexer": "ipython3",
   "version": "3.10.18"
  }
 },
 "nbformat": 4,
 "nbformat_minor": 5
}
