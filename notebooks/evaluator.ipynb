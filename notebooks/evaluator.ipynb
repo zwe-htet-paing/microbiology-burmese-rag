{
 "cells": [
  {
   "cell_type": "markdown",
   "id": "e69def3c",
   "metadata": {},
   "source": [
    "### Simple Evaluator"
   ]
  },
  {
   "cell_type": "code",
   "execution_count": 1,
   "id": "b8a5e553",
   "metadata": {},
   "outputs": [],
   "source": [
    "from langsmith.schemas import Example, Run\n",
    "\n",
    "def correct_label(inputs: dict, reference_outputs: dict, outputs: dict):\n",
    "    score = outputs.get(\"output\") == reference_outputs.get(\"lable\")\n",
    "    return {\"score\": int(score), \"key\": \"correct_label\"}"
   ]
  },
  {
   "cell_type": "markdown",
   "id": "c2db72a2",
   "metadata": {},
   "source": [
    "### LLM-as-Judge Evaluation"
   ]
  },
  {
   "cell_type": "code",
   "execution_count": null,
   "id": "0ea2a07d",
   "metadata": {},
   "outputs": [
    {
     "data": {
      "text/plain": [
       "True"
      ]
     },
     "execution_count": 2,
     "metadata": {},
     "output_type": "execute_result"
    }
   ],
   "source": [
    "from dotenv import load_dotenv\n",
    "load_dotenv(dotenv_path=\"../.env\", override=True)"
   ]
  },
  {
   "cell_type": "code",
   "execution_count": 3,
   "id": "227d99e2",
   "metadata": {},
   "outputs": [],
   "source": [
    "from openai import OpenAI\n",
    "from pydantic import BaseModel, Field"
   ]
  },
  {
   "cell_type": "code",
   "execution_count": 4,
   "id": "52a4a919",
   "metadata": {},
   "outputs": [],
   "source": [
    "client = OpenAI()"
   ]
  },
  {
   "cell_type": "code",
   "execution_count": 5,
   "id": "a9bb9fbb",
   "metadata": {},
   "outputs": [],
   "source": [
    "class Similarity_Score(BaseModel):\n",
    "    similarity_score: int = Field(description=\"Semantic similarity score between 1 and 10, where 1 means unrelated and 10 means identical.\")"
   ]
  },
  {
   "cell_type": "code",
   "execution_count": 6,
   "id": "8f0895dc",
   "metadata": {},
   "outputs": [],
   "source": [
    "def compare_semantic_similarity_score(inputs: dict, reference_outputs: dict, outputs: dict):\n",
    "    input_question = inputs[\"question\"]\n",
    "    reference_output = reference_outputs[\"output\"]\n",
    "    output = outputs[\"output\"]\n",
    "    \n",
    "    completion = client.beta.chat.completions.parse(\n",
    "        model = \"gpt-4o-mini\",\n",
    "        messages = [\n",
    "            {\n",
    "                \"role\": \"system\",\n",
    "                \"content\": (\n",
    "                    \"You are a semantic similarity evaluator. Compare the meanings of two responses to a question, \"\n",
    "                    \"Reference Response and New Response, where the reference is the correct answer, and we are trying to judge if the new response is similar. \"\n",
    "                    \"Provide a score between 1 and 10, where 1 means completely unrelated, and 10 means identical in meaning.\"\n",
    "                ),\n",
    "            },\n",
    "            {\n",
    "                \"role\": \"user\",\n",
    "                \"content\": (\n",
    "                    f\"Question: {input_question}\\n\"\n",
    "                    f\"Reference Response: {reference_output}\\n\"\n",
    "                    f\"Run Response: {output}\"\n",
    "                ),\n",
    "            }\n",
    "        ],\n",
    "        response_format = Similarity_Score,\n",
    "    )\n",
    "    \n",
    "    similarity_score = completion.choices[0].message.parsed\n",
    "    return {\"similarity_score\": similarity_score}"
   ]
  },
  {
   "cell_type": "code",
   "execution_count": 7,
   "id": "01bfe450",
   "metadata": {},
   "outputs": [
    {
     "name": "stdout",
     "output_type": "stream",
     "text": [
      "Semantic similarity score: {'similarity_score': Similarity_Score(similarity_score=2)}\n"
     ]
    }
   ],
   "source": [
    "# From Dataset Example\n",
    "inputs = {\n",
    "  \"question\": \"အဏုဇီဝဗေဒ ဆိုတာ ဘာလဲ ရှင်းပြပါ\"\n",
    "}\n",
    "reference_outputs = {\n",
    "  \"output\": \"အဏုဇီဝဗေဒသည် မျက်စိဖြင့် မမြင်နိုင်သော အဏုဇီဝ သက်ရှိများကို လေ့လာသည့် သိပ္ပံပညာရပ် ဖြစ်သည် ။ ဤပညာရပ်တွင် ဘက်တီးရီးယား ၊ ဗိုင်းရပ်စ်၊ မှို၊ နှင့် protozoa များကို အဓိက လေ့လာသည် ။\"\n",
    "}\n",
    "\n",
    "\n",
    "# From Run\n",
    "outputs = {\n",
    "  \"output\": \"အဏုဇီဝဗေဒဆိုသည်မှာ လူနာများကို ကုသရာတွင် သုံးသော ဗေဒပညာဖြစ်သည်။\"\n",
    "}\n",
    "\n",
    "\n",
    "similarity_score = compare_semantic_similarity_score(inputs, reference_outputs, outputs)\n",
    "print(f\"Semantic similarity score: {similarity_score}\")"
   ]
  },
  {
   "cell_type": "code",
   "execution_count": 8,
   "id": "d2fefbbc",
   "metadata": {},
   "outputs": [],
   "source": [
    "from langsmith.schemas import Run, Example\n",
    "\n",
    "def compare_semantic_similarity_v2(root_run: Run, example: Example):\n",
    "    input_question = example[\"inputs\"][\"question\"]\n",
    "    reference_response = example[\"outputs\"][\"output\"]\n",
    "    run_response = root_run[\"outputs\"][\"output\"]\n",
    "    \n",
    "    completion = client.beta.chat.completions.parse(\n",
    "        model = \"gpt-4o-mini\",\n",
    "        messages = [\n",
    "            {\n",
    "                \"role\": \"system\",\n",
    "                \"content\": (\n",
    "                    \"You are a semantic similarity evaluator. Compare the meanings of two responses to a question, \"\n",
    "                    \"Reference Response and New Response, where the reference is the correct answer, and we are trying to judge if the new response is similar. \"\n",
    "                    \"Provide a score between 1 and 10, where 1 means completely unrelated, and 10 means identical in meaning.\"\n",
    "                ),\n",
    "            },\n",
    "            {\n",
    "                \"role\": \"user\",\n",
    "                \"content\": (\n",
    "                    f\"Question: {input_question}\\n\"\n",
    "                    f\"Reference Response: {reference_response}\\n\"\n",
    "                    f\"Run Response: {run_response}\"\n",
    "                ),\n",
    "            }\n",
    "        ],\n",
    "        response_format = Similarity_Score,\n",
    "    )\n",
    "    \n",
    "    similarity_score = completion.choices[0].message.parsed\n",
    "    return {\"similarity_score\": similarity_score}"
   ]
  },
  {
   "cell_type": "code",
   "execution_count": 9,
   "id": "de6779bd",
   "metadata": {},
   "outputs": [
    {
     "name": "stdout",
     "output_type": "stream",
     "text": [
      "Semantic similarity score: {'similarity_score': Similarity_Score(similarity_score=9)}\n"
     ]
    }
   ],
   "source": [
    "# Example from dataset row\n",
    "sample_run = {\n",
    "  \"name\": \"Sample Run\",\n",
    "  \"inputs\": {\n",
    "    \"question\": \"အဏုဇီဝဗေဒ ဆိုတာ ဘာလဲ ရှင်းပြပါ\"\n",
    "  },\n",
    "  \"outputs\": {\n",
    "    \"output\": \"အဏုဇီဝဗေဒသည် မျက်စိဖြင့် မမြင်နိုင်သော အဏုဇီဝ သက်ရှိများကို လေ့လာသည့် သိပ္ပံပညာရပ် ဖြစ်သည် ။\"\n",
    "  },\n",
    "  \"is_root\": True,\n",
    "  \"status\": \"success\",\n",
    "  \"extra\": {\n",
    "    \"metadata\": {\n",
    "      \"key\": \"biology-test\"\n",
    "    }\n",
    "  }\n",
    "}\n",
    "\n",
    "sample_example = {\n",
    "  \"inputs\": {\n",
    "    \"question\": \"အဏုဇီဝဗေဒ ဆိုတာ ဘာလဲ ရှင်းပြပါ\"\n",
    "  },\n",
    "  \"outputs\": {\n",
    "    \"output\": \"အဏုဇီဝဗေဒသည် မျက်စိဖြင့် မမြင်နိုင်သော အဏုဇီဝ သက်ရှိများကို လေ့လာသည့် သိပ္ပံပညာရပ် ဖြစ်သည် ။ ဤပညာရပ်တွင် ဘက်တီးရီးယား ၊ ဗိုင်းရပ်စ်၊ မှို၊ နှင့် protozoa များကို အဓိက လေ့လာသည် ။\"\n",
    "  },\n",
    "  \"metadata\": {\n",
    "    \"dataset_split\": [\n",
    "      \"biology\",\n",
    "      \"base\"\n",
    "    ]\n",
    "  }\n",
    "}\n",
    "\n",
    "similarity_score = compare_semantic_similarity_v2(sample_run, sample_example)\n",
    "print(f\"Semantic similarity score: {similarity_score}\")\n"
   ]
  },
  {
   "cell_type": "code",
   "execution_count": null,
   "id": "81f2cef5",
   "metadata": {},
   "outputs": [],
   "source": []
  }
 ],
 "metadata": {
  "kernelspec": {
   "display_name": "langchain",
   "language": "python",
   "name": "python3"
  },
  "language_info": {
   "codemirror_mode": {
    "name": "ipython",
    "version": 3
   },
   "file_extension": ".py",
   "mimetype": "text/x-python",
   "name": "python",
   "nbconvert_exporter": "python",
   "pygments_lexer": "ipython3",
   "version": "3.10.18"
  }
 },
 "nbformat": 4,
 "nbformat_minor": 5
}
