{
 "cells": [
  {
   "cell_type": "code",
   "execution_count": null,
   "id": "24839b66",
   "metadata": {},
   "outputs": [],
   "source": [
    "import os\n",
    "os.environ[\"OPENAI_API_KEY\"] = \"\"\n",
    "os.environ[\"LANGSMITH_API_KEY\"] = \"\"\n",
    "os.environ[\"LANGSMITH_TRACING\"] = \"true\"\n",
    "os.environ[\"LANGSMITH_PROJECT\"] = \"microbiology-assistance-burmese\""
   ]
  },
  {
   "cell_type": "code",
   "execution_count": null,
   "id": "29db43a7",
   "metadata": {},
   "outputs": [
    {
     "data": {
      "text/plain": [
       "True"
      ]
     },
     "execution_count": 2,
     "metadata": {},
     "output_type": "execute_result"
    }
   ],
   "source": [
    "from dotenv import load_dotenv\n",
    "load_dotenv(dotenv_path=\"../.env\", override=True)"
   ]
  },
  {
   "cell_type": "code",
   "execution_count": 6,
   "id": "de920fec",
   "metadata": {},
   "outputs": [],
   "source": [
    "import sys\n",
    "import os\n",
    "\n",
    "# Path to the folder containing rag_pipeline\n",
    "parent_path = os.path.abspath(os.path.join(os.getcwd(), \"..\"))\n",
    "if parent_path not in sys.path:\n",
    "    sys.path.append(parent_path)\n",
    "    \n",
    "from rag_pipeline import langsmith_rag"
   ]
  },
  {
   "cell_type": "code",
   "execution_count": 7,
   "id": "f3ca5abf",
   "metadata": {},
   "outputs": [],
   "source": [
    "from langsmith import Client, evaluate"
   ]
  },
  {
   "cell_type": "code",
   "execution_count": 4,
   "id": "8ea9cf60",
   "metadata": {},
   "outputs": [],
   "source": [
    "client = Client()\n",
    "dataset_name = \"Microbiology Assistance Burmese Golden Dataset\""
   ]
  },
  {
   "cell_type": "code",
   "execution_count": 5,
   "id": "85d9a5ce",
   "metadata": {},
   "outputs": [],
   "source": [
    "def is_concise_enough(reference_outputs: dict, outputs: dict) -> dict:\n",
    "    score = len(outputs[\"output\"]) < 1.5 * len(reference_outputs[\"output\"])\n",
    "    return {\"score\": int(score), \"key\": \"concise_enough\"}"
   ]
  },
  {
   "cell_type": "code",
   "execution_count": 6,
   "id": "a5a6f06b",
   "metadata": {},
   "outputs": [],
   "source": [
    "def target_function(inputs: dict):\n",
    "    return langsmith_rag(inputs[\"question\"])"
   ]
  },
  {
   "cell_type": "code",
   "execution_count": 7,
   "id": "0b033611",
   "metadata": {},
   "outputs": [
    {
     "name": "stdout",
     "output_type": "stream",
     "text": [
      "View the evaluation results for experiment: 'gpt-4o-mini-3d424a78' at:\n",
      "https://smith.langchain.com/o/c2334c23-93a6-50da-9fde-d7f0fe871fba/datasets/f6cc47bb-5ac2-4500-9371-15cdabaf97d7/compare?selectedSessions=7da34e64-b259-41a9-8b13-3f67d2bfe576\n",
      "\n",
      "\n"
     ]
    },
    {
     "data": {
      "application/vnd.jupyter.widget-view+json": {
       "model_id": "3c8270dab64b42fcbb301f1e72c8e2d3",
       "version_major": 2,
       "version_minor": 0
      },
      "text/plain": [
       "0it [00:00, ?it/s]"
      ]
     },
     "metadata": {},
     "output_type": "display_data"
    },
    {
     "data": {
      "text/html": [
       "<div>\n",
       "<style scoped>\n",
       "    .dataframe tbody tr th:only-of-type {\n",
       "        vertical-align: middle;\n",
       "    }\n",
       "\n",
       "    .dataframe tbody tr th {\n",
       "        vertical-align: top;\n",
       "    }\n",
       "\n",
       "    .dataframe thead th {\n",
       "        text-align: right;\n",
       "    }\n",
       "</style>\n",
       "<table border=\"1\" class=\"dataframe\">\n",
       "  <thead>\n",
       "    <tr style=\"text-align: right;\">\n",
       "      <th></th>\n",
       "      <th>inputs.question</th>\n",
       "      <th>outputs.output</th>\n",
       "      <th>error</th>\n",
       "      <th>reference.output</th>\n",
       "      <th>feedback.concise_enough</th>\n",
       "      <th>execution_time</th>\n",
       "      <th>example_id</th>\n",
       "      <th>id</th>\n",
       "    </tr>\n",
       "  </thead>\n",
       "  <tbody>\n",
       "    <tr>\n",
       "      <th>0</th>\n",
       "      <td>Protozoa များ ၏ သွင်ပြင် လက္ခဏာများကို ဖော်ပြပါ</td>\n",
       "      <td>Protozoa များသည် unicellular (တစ်ဆန်) သက်ရှိမျ...</td>\n",
       "      <td>None</td>\n",
       "      <td>Protozoa များသည် single-celled eukaryotes ဖြစ်...</td>\n",
       "      <td>1</td>\n",
       "      <td>5.871407</td>\n",
       "      <td>85f5bd07-aaf6-4c09-8dc1-681e209ea393</td>\n",
       "      <td>2dbb2475-1028-45f0-9df9-bf64cfbb769f</td>\n",
       "    </tr>\n",
       "    <tr>\n",
       "      <th>1</th>\n",
       "      <td>Fungi ကို အဘယ်ကြောင့် လေ့လာရသနည်း ရှင်းပြပါ</td>\n",
       "      <td>Fungi များကို လေ့လာခြင်း ဖြင့် သဘာဝပတ်ဝန်းကျင်...</td>\n",
       "      <td>None</td>\n",
       "      <td>Fungi များကို လေ့လာခြင်း ဖြင့် သဘာဝပတ်ဝန်းကျင်...</td>\n",
       "      <td>1</td>\n",
       "      <td>6.193186</td>\n",
       "      <td>8be3444f-bc85-4de3-bfe3-32a6c77a5cad</td>\n",
       "      <td>60b70eac-3f1f-4c4a-a38e-9a1886ad76d8</td>\n",
       "    </tr>\n",
       "    <tr>\n",
       "      <th>2</th>\n",
       "      <td>အဏုဇီဝဗေဒ ဆိုတာ ဘာလဲ ရှင်းပြပါ</td>\n",
       "      <td>အဏုဇီဝဗေဒ MicroBiology သည် မျက်စိဖြင့် မမြင်နိ...</td>\n",
       "      <td>None</td>\n",
       "      <td>အဏုဇီဝဗေဒ MicroBiology သည် မျက်စိဖြင့် မမြင်နိ...</td>\n",
       "      <td>1</td>\n",
       "      <td>3.137149</td>\n",
       "      <td>95396e35-8054-4eaa-a4e4-dd94fa84ddb5</td>\n",
       "      <td>234a2508-c4f0-45ee-83fc-fdb2cf4693b5</td>\n",
       "    </tr>\n",
       "    <tr>\n",
       "      <th>3</th>\n",
       "      <td>Virus ၏ အဓိက အစိတ်အပိုင်းများကို ဖော်ပြပါ</td>\n",
       "      <td>Virus တွင် အဓိက အစိတ်အပိုင်း ၂ ခု ရှိသည် - (၁)...</td>\n",
       "      <td>None</td>\n",
       "      <td>Virus တွင် အဓိက အစိတ်အပိုင်း ၂ ခု ရှိသည် - (၁)...</td>\n",
       "      <td>1</td>\n",
       "      <td>3.363716</td>\n",
       "      <td>ab0f7d93-6a6f-4371-80f9-df40ce0f026c</td>\n",
       "      <td>97236ccd-de22-4094-9174-545e6fb96efc</td>\n",
       "    </tr>\n",
       "    <tr>\n",
       "      <th>4</th>\n",
       "      <td>Bacteria ၏ ဖွဲ့စည်းပုံကို ဖော်ပြပါ</td>\n",
       "      <td>Bacteria သည် prokaryotic cell ဖြစ်ပြီး၊ နျူကလိ...</td>\n",
       "      <td>None</td>\n",
       "      <td>Bacteria သည် prokaryotic cell ဖြစ်ပြီး၊ နျူကလိ...</td>\n",
       "      <td>1</td>\n",
       "      <td>2.902109</td>\n",
       "      <td>c60836b0-35be-44e7-b7b6-5f997718bb45</td>\n",
       "      <td>31a582e8-fb6a-4f22-ac97-2762173de3a0</td>\n",
       "    </tr>\n",
       "  </tbody>\n",
       "</table>\n",
       "</div>"
      ],
      "text/plain": [
       "<ExperimentResults gpt-4o-mini-3d424a78>"
      ]
     },
     "execution_count": 7,
     "metadata": {},
     "output_type": "execute_result"
    }
   ],
   "source": [
    "evaluate(\n",
    "    target_function,\n",
    "    data=dataset_name,\n",
    "    evaluators=[is_concise_enough],\n",
    "    experiment_prefix=\"gpt-4o-mini\"\n",
    ")"
   ]
  },
  {
   "cell_type": "code",
   "execution_count": null,
   "id": "b92d53a5",
   "metadata": {},
   "outputs": [
    {
     "name": "stdout",
     "output_type": "stream",
     "text": [
      "View the evaluation results for experiment: 'Base split version-d0c1b445' at:\n",
      "https://smith.langchain.com/o/c2334c23-93a6-50da-9fde-d7f0fe871fba/datasets/61d8a815-c046-4bcc-8314-0857c7e1f345/compare?selectedSessions=cef29118-e089-41d3-b882-06ed1be05eea\n",
      "\n",
      "\n"
     ]
    },
    {
     "data": {
      "application/vnd.jupyter.widget-view+json": {
       "model_id": "f60143ae0b3442b28c5da1824761d360",
       "version_major": 2,
       "version_minor": 0
      },
      "text/plain": [
       "0it [00:00, ?it/s]"
      ]
     },
     "metadata": {},
     "output_type": "display_data"
    },
    {
     "data": {
      "text/html": [
       "<div>\n",
       "<style scoped>\n",
       "    .dataframe tbody tr th:only-of-type {\n",
       "        vertical-align: middle;\n",
       "    }\n",
       "\n",
       "    .dataframe tbody tr th {\n",
       "        vertical-align: top;\n",
       "    }\n",
       "\n",
       "    .dataframe thead th {\n",
       "        text-align: right;\n",
       "    }\n",
       "</style>\n",
       "<table border=\"1\" class=\"dataframe\">\n",
       "  <thead>\n",
       "    <tr style=\"text-align: right;\">\n",
       "      <th></th>\n",
       "      <th>inputs.question</th>\n",
       "      <th>outputs.output</th>\n",
       "      <th>error</th>\n",
       "      <th>reference.output</th>\n",
       "      <th>feedback.concise_enough</th>\n",
       "      <th>execution_time</th>\n",
       "      <th>example_id</th>\n",
       "      <th>id</th>\n",
       "    </tr>\n",
       "  </thead>\n",
       "  <tbody>\n",
       "    <tr>\n",
       "      <th>0</th>\n",
       "      <td>အဏုဇီဝဗေဒ ဆိုတာ ဘာလဲ ရှင်းပြပါ</td>\n",
       "      <td>အဏုဇီဝဗေဒသည် မျက်စိဖြင့် မမြင်နိုင်သော အဏုဇီဝ ...</td>\n",
       "      <td>None</td>\n",
       "      <td>အဏုဇီဝဗေဒသည် မျက်စိဖြင့် မမြင်နိုင်သော အဏုဇီဝ ...</td>\n",
       "      <td>1</td>\n",
       "      <td>4.591990</td>\n",
       "      <td>8cd9f157-a691-4cac-b9a5-8b92074759b1</td>\n",
       "      <td>33cca4b6-15ae-41e3-bd5c-44d54298052b</td>\n",
       "    </tr>\n",
       "    <tr>\n",
       "      <th>1</th>\n",
       "      <td>Virus ၏ အဓိက အစိတ်အပိုင်းများကို ဖော်ပြပါ</td>\n",
       "      <td>Virus ၏ အဓိက အစိတ်အပိုင်းများမှာ (၁) ဗီဇပစ္စည်...</td>\n",
       "      <td>None</td>\n",
       "      <td>Virus တွင် အဓိက အစိတ်အပိုင်း ၂ ခု ရှိသည် - (၁)...</td>\n",
       "      <td>1</td>\n",
       "      <td>2.515518</td>\n",
       "      <td>1307f282-fb06-46ed-84ae-88157743ddd8</td>\n",
       "      <td>7a59d00d-2513-4bd0-aea1-1c1c9e591150</td>\n",
       "    </tr>\n",
       "    <tr>\n",
       "      <th>2</th>\n",
       "      <td>Bacteria ၏ ဖွဲ့စည်းပုံကို ဖော်ပြပါ</td>\n",
       "      <td>Bacteria သည် prokaryotic cell ဖြစ်ပြီး၊ နျူကလိ...</td>\n",
       "      <td>None</td>\n",
       "      <td>Bacteria သည် prokaryotic cell ဖြစ်ပြီး၊ နျူကလိ...</td>\n",
       "      <td>1</td>\n",
       "      <td>2.028200</td>\n",
       "      <td>7aa4fbf8-d02d-4dd9-8fc1-cf26c400d922</td>\n",
       "      <td>a1e65d79-5315-43fe-ba2c-785ae970ee7f</td>\n",
       "    </tr>\n",
       "  </tbody>\n",
       "</table>\n",
       "</div>"
      ],
      "text/plain": [
       "<ExperimentResults Base split version-d0c1b445>"
      ]
     },
     "execution_count": 13,
     "metadata": {},
     "output_type": "execute_result"
    }
   ],
   "source": [
    "evaluate(\n",
    "    target_function,\n",
    "    data=client.list_examples(dataset_name=dataset_name, as_of=\"latest\"),   # We use as_of to specify a version\n",
    "    evaluators=[is_concise_enough],\n",
    "    experiment_prefix=\"latest version\"\n",
    ")"
   ]
  },
  {
   "cell_type": "code",
   "execution_count": 9,
   "id": "f7e1d49c",
   "metadata": {},
   "outputs": [
    {
     "name": "stdout",
     "output_type": "stream",
     "text": [
      "View the evaluation results for experiment: 'Crucial Examples split-cff4b4fa' at:\n",
      "https://smith.langchain.com/o/c2334c23-93a6-50da-9fde-d7f0fe871fba/datasets/f6cc47bb-5ac2-4500-9371-15cdabaf97d7/compare?selectedSessions=dec21489-03bb-448e-8974-4db4a9946588\n",
      "\n",
      "\n"
     ]
    },
    {
     "data": {
      "application/vnd.jupyter.widget-view+json": {
       "model_id": "40c7002a9361466e9a5118da95f18a05",
       "version_major": 2,
       "version_minor": 0
      },
      "text/plain": [
       "0it [00:00, ?it/s]"
      ]
     },
     "metadata": {},
     "output_type": "display_data"
    },
    {
     "data": {
      "text/html": [
       "<div>\n",
       "<style scoped>\n",
       "    .dataframe tbody tr th:only-of-type {\n",
       "        vertical-align: middle;\n",
       "    }\n",
       "\n",
       "    .dataframe tbody tr th {\n",
       "        vertical-align: top;\n",
       "    }\n",
       "\n",
       "    .dataframe thead th {\n",
       "        text-align: right;\n",
       "    }\n",
       "</style>\n",
       "<table border=\"1\" class=\"dataframe\">\n",
       "  <thead>\n",
       "    <tr style=\"text-align: right;\">\n",
       "      <th></th>\n",
       "      <th>inputs.question</th>\n",
       "      <th>outputs.output</th>\n",
       "      <th>error</th>\n",
       "      <th>reference.output</th>\n",
       "      <th>feedback.concise_enough</th>\n",
       "      <th>execution_time</th>\n",
       "      <th>example_id</th>\n",
       "      <th>id</th>\n",
       "    </tr>\n",
       "  </thead>\n",
       "  <tbody>\n",
       "    <tr>\n",
       "      <th>0</th>\n",
       "      <td>အဏုဇီဝဗေဒ ဆိုတာ ဘာလဲ ရှင်းပြပါ</td>\n",
       "      <td>အဏုဇီဝဗေဒ MicroBiology သည် မျက်စိဖြင့် မမြင်နိ...</td>\n",
       "      <td>None</td>\n",
       "      <td>အဏုဇီဝဗေဒ MicroBiology သည် မျက်စိဖြင့် မမြင်နိ...</td>\n",
       "      <td>1</td>\n",
       "      <td>2.915049</td>\n",
       "      <td>95396e35-8054-4eaa-a4e4-dd94fa84ddb5</td>\n",
       "      <td>93287230-1d94-4eec-97d0-fc9a6cc22502</td>\n",
       "    </tr>\n",
       "    <tr>\n",
       "      <th>1</th>\n",
       "      <td>Virus ၏ အဓိက အစိတ်အပိုင်းများကို ဖော်ပြပါ</td>\n",
       "      <td>Virus တွင် အဓိက အစိတ်အပိုင်း ၂ ခု ရှိသည် - (၁)...</td>\n",
       "      <td>None</td>\n",
       "      <td>Virus တွင် အဓိက အစိတ်အပိုင်း ၂ ခု ရှိသည် - (၁)...</td>\n",
       "      <td>1</td>\n",
       "      <td>2.801823</td>\n",
       "      <td>ab0f7d93-6a6f-4371-80f9-df40ce0f026c</td>\n",
       "      <td>d405c16c-227b-434c-adfd-a4c390dce851</td>\n",
       "    </tr>\n",
       "  </tbody>\n",
       "</table>\n",
       "</div>"
      ],
      "text/plain": [
       "<ExperimentResults Crucial Examples split-cff4b4fa>"
      ]
     },
     "execution_count": 9,
     "metadata": {},
     "output_type": "execute_result"
    }
   ],
   "source": [
    "evaluate(\n",
    "    target_function,\n",
    "    data=client.list_examples(dataset_name=dataset_name, splits=[\"Crucial Examples\"]),  # We pass in a list of Splits\n",
    "    evaluators=[is_concise_enough],\n",
    "    experiment_prefix=\"Crucial Examples split\"\n",
    ")"
   ]
  },
  {
   "cell_type": "code",
   "execution_count": 10,
   "id": "0cefdd19",
   "metadata": {},
   "outputs": [
    {
     "name": "stdout",
     "output_type": "stream",
     "text": [
      "View the evaluation results for experiment: 'two specific example ids-9b330f7f' at:\n",
      "https://smith.langchain.com/o/c2334c23-93a6-50da-9fde-d7f0fe871fba/datasets/f6cc47bb-5ac2-4500-9371-15cdabaf97d7/compare?selectedSessions=32fab269-bb5b-44b8-a30f-d8eeb721aff4\n",
      "\n",
      "\n"
     ]
    },
    {
     "data": {
      "application/vnd.jupyter.widget-view+json": {
       "model_id": "a679b12ab1874c0492e28d926615390c",
       "version_major": 2,
       "version_minor": 0
      },
      "text/plain": [
       "0it [00:00, ?it/s]"
      ]
     },
     "metadata": {},
     "output_type": "display_data"
    },
    {
     "data": {
      "text/html": [
       "<div>\n",
       "<style scoped>\n",
       "    .dataframe tbody tr th:only-of-type {\n",
       "        vertical-align: middle;\n",
       "    }\n",
       "\n",
       "    .dataframe tbody tr th {\n",
       "        vertical-align: top;\n",
       "    }\n",
       "\n",
       "    .dataframe thead th {\n",
       "        text-align: right;\n",
       "    }\n",
       "</style>\n",
       "<table border=\"1\" class=\"dataframe\">\n",
       "  <thead>\n",
       "    <tr style=\"text-align: right;\">\n",
       "      <th></th>\n",
       "      <th>inputs.question</th>\n",
       "      <th>outputs.output</th>\n",
       "      <th>error</th>\n",
       "      <th>reference.output</th>\n",
       "      <th>feedback.concise_enough</th>\n",
       "      <th>execution_time</th>\n",
       "      <th>example_id</th>\n",
       "      <th>id</th>\n",
       "    </tr>\n",
       "  </thead>\n",
       "  <tbody>\n",
       "    <tr>\n",
       "      <th>0</th>\n",
       "      <td>Protozoa များ ၏ သွင်ပြင် လက္ခဏာများကို ဖော်ပြပါ</td>\n",
       "      <td>Protozoa များသည် သုံးလမ်းကြောင်းစက်များ (unice...</td>\n",
       "      <td>None</td>\n",
       "      <td>Protozoa များသည် single-celled eukaryotes ဖြစ်...</td>\n",
       "      <td>1</td>\n",
       "      <td>3.199510</td>\n",
       "      <td>85f5bd07-aaf6-4c09-8dc1-681e209ea393</td>\n",
       "      <td>ba0b7fda-8cd4-4ef4-a7c9-8d40f1a0ff23</td>\n",
       "    </tr>\n",
       "    <tr>\n",
       "      <th>1</th>\n",
       "      <td>Fungi ကို အဘယ်ကြောင့် လေ့လာရသနည်း ရှင်းပြပါ</td>\n",
       "      <td>Fungi များကို လေ့လာခြင်းဖြင့် သဘာဝပတ်ဝန်းကျင်တ...</td>\n",
       "      <td>None</td>\n",
       "      <td>Fungi များကို လေ့လာခြင်း ဖြင့် သဘာဝပတ်ဝန်းကျင်...</td>\n",
       "      <td>1</td>\n",
       "      <td>2.564181</td>\n",
       "      <td>8be3444f-bc85-4de3-bfe3-32a6c77a5cad</td>\n",
       "      <td>ba3cfa67-f823-40b9-ab68-0660349ceb3c</td>\n",
       "    </tr>\n",
       "  </tbody>\n",
       "</table>\n",
       "</div>"
      ],
      "text/plain": [
       "<ExperimentResults two specific example ids-9b330f7f>"
      ]
     },
     "execution_count": 10,
     "metadata": {},
     "output_type": "execute_result"
    }
   ],
   "source": [
    "evaluate(\n",
    "    target_function,\n",
    "    data=client.list_examples(\n",
    "        dataset_name=dataset_name, \n",
    "        example_ids=[   # We pass in a specific list of example_ids\n",
    "            \"85f5bd07-aaf6-4c09-8dc1-681e209ea393\",\n",
    "            \"8be3444f-bc85-4de3-bfe3-32a6c77a5cad\"\n",
    "        ]\n",
    "    ),\n",
    "    evaluators=[is_concise_enough],\n",
    "    experiment_prefix=\"two specific example ids\"\n",
    ")"
   ]
  },
  {
   "cell_type": "code",
   "execution_count": null,
   "id": "ec756150",
   "metadata": {},
   "outputs": [],
   "source": []
  }
 ],
 "metadata": {
  "kernelspec": {
   "display_name": "langchain",
   "language": "python",
   "name": "python3"
  },
  "language_info": {
   "codemirror_mode": {
    "name": "ipython",
    "version": 3
   },
   "file_extension": ".py",
   "mimetype": "text/x-python",
   "name": "python",
   "nbconvert_exporter": "python",
   "pygments_lexer": "ipython3",
   "version": "3.10.18"
  }
 },
 "nbformat": 4,
 "nbformat_minor": 5
}
