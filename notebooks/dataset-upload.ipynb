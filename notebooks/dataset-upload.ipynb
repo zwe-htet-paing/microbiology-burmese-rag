{
 "cells": [
  {
   "cell_type": "code",
   "execution_count": 2,
   "id": "1e6e4ba8",
   "metadata": {},
   "outputs": [],
   "source": [
    "import os\n",
    "os.environ[\"OPENAI_API_KEY\"] = \"\"\n",
    "os.environ[\"LANGSMITH_API_KEY\"] = \"\"\n",
    "os.environ[\"LANGSMITH_TRACING\"] = \"true\"\n",
    "os.environ[\"LANGSMITH_PROJECT\"] = \"microbiology-assistance-burmese\""
   ]
  },
  {
   "cell_type": "code",
   "execution_count": 4,
   "id": "80658e70",
   "metadata": {},
   "outputs": [
    {
     "data": {
      "text/plain": [
       "True"
      ]
     },
     "execution_count": 4,
     "metadata": {},
     "output_type": "execute_result"
    }
   ],
   "source": [
    "from dotenv import load_dotenv\n",
    "load_dotenv(dotenv_path=\"../.env\", override=True)"
   ]
  },
  {
   "cell_type": "code",
   "execution_count": 6,
   "id": "a43d6e6b",
   "metadata": {},
   "outputs": [
    {
     "data": {
      "text/plain": [
       "[('အဏုဇီဝဗေဒ ဆိုတာ ဘာလဲ ရှင်းပြပါ',\n",
       "  'အဏုဇီဝဗေဒ Microbiology သည် မျက်စိဖြင့် မမြင်နိုင်သော အဏုဇီဝ သက်ရှိများကို လေ့လာသည့် သိပ္ပံပညာရပ် ဖြစ်သည် ။ ဤပညာရပ်တွင် ဘက်တီးရီးယား ၊ ဗိုင်းရပ်စ်၊ မှို၊ နှင့် protozoa များကို အဓိက လေ့လာသည် ။'),\n",
       " ('Bacteria ၏ ဖွဲ့စည်းပုံကို ဖော်ပြပါ',\n",
       "  'Bacteria သည် prokaryotic cell ဖြစ်ပြီး၊ နျူကလိယပ် အမြှေးပါး မရှိပါ ။ ၎င်းတွင် cell wall၊ cell membrane၊ cytoplasm နှင့် ribosomes များ ပါဝင်သည် ။ အချို့တွင် flagella သို့မဟုတ် pili လည်း ရှိနိုင်သည် ။'),\n",
       " ('Virus ၏ အဓိက အစိတ်အပိုင်းများကို ဖော်ပြပါ',\n",
       "  'Virus တွင် အဓိက အစိတ်အပိုင်း ၂ ခု ရှိသည် - (၁) ဗီဇပစ္စည်း (DNA သို့မဟုတ် RNA) နှင့် (၂) protein coat (capsid ဟုခေါ်သည်) ။ အချို့ virus များတွင် lipid envelope လည်း ရှိသည် ။ '),\n",
       " ('Fungi ကို အဘယ်ကြောင့် လေ့လာရသနည်း ရှင်းပြပါ',\n",
       "  'Fungi များကို လေ့လာခြင်း ဖြင့် သဘာဝပတ်ဝန်းကျင်တွင် ၎င်းတို့ ၏ အရေးပါမှု၊ စက်မှုလုပ်ငန်းများတွင် အသုံးပြုပုံ၊ ရောဂါဖြစ်ပွားစေသော မှိုများ ၏ သဘာဝကို နားလည်နိုင်သည် ။ ထို့အပြင် antibiotics ထုတ်လုပ်ရာတွင်လည်း အရေးပါသည် ။'),\n",
       " ('Protozoa များ ၏ သွင်ပြင် လက္ခဏာများကို ဖော်ပြပါ',\n",
       "  'Protozoa များသည် single-celled eukaryotes ဖြစ်ကြသည် ။ ၎င်းတို့တွင် နျူကလိယပ်အမြှေးပါး ရှိပြီး ၊ organelles များ ပါဝင်သည် ။ အစာစားခြင်း၊ ရွေ့လျားခြင်း၊ နှင့် မျိုးပွားခြင်း တို့ကို ဆဲလ် တစ်ခု တည်းဖြင့် ပြုလုပ်နိုင်သည် ။')]"
      ]
     },
     "execution_count": 6,
     "metadata": {},
     "output_type": "execute_result"
    }
   ],
   "source": [
    "import pandas as pd  \n",
    "\n",
    "df = pd.read_csv(\"../data/microbiology.csv\").head(5)  # only read first 5 rows for testing\n",
    "\n",
    "examples =  list(df.itertuples(index=False, name=None))\n",
    "examples"
   ]
  },
  {
   "cell_type": "code",
   "execution_count": 4,
   "id": "52c6c989",
   "metadata": {},
   "outputs": [],
   "source": [
    "from langsmith import Client"
   ]
  },
  {
   "cell_type": "code",
   "execution_count": 6,
   "id": "182fcfa8",
   "metadata": {},
   "outputs": [
    {
     "data": {
      "text/plain": [
       "{'example_ids': ['95396e35-8054-4eaa-a4e4-dd94fa84ddb5',\n",
       "  'c60836b0-35be-44e7-b7b6-5f997718bb45',\n",
       "  'ab0f7d93-6a6f-4371-80f9-df40ce0f026c',\n",
       "  '8be3444f-bc85-4de3-bfe3-32a6c77a5cad',\n",
       "  '85f5bd07-aaf6-4c09-8dc1-681e209ea393'],\n",
       " 'count': 5}"
      ]
     },
     "execution_count": 6,
     "metadata": {},
     "output_type": "execute_result"
    }
   ],
   "source": [
    "client = Client()\n",
    "\n",
    "dataset_id = \"f6cc47bb-5ac2-4500-9371-15cdabaf97d7\" # get dataset_id from langsmith\n",
    "\n",
    "# Prepare inputs and outputs for bulk creation\n",
    "inputs = [{\"question\": input_prompt} for input_prompt, _ in examples]\n",
    "outputs = [{\"output\": output_answer} for _, output_answer in examples]\n",
    "\n",
    "client.create_examples(\n",
    "    dataset_id=dataset_id,\n",
    "    inputs=inputs,\n",
    "    outputs=outputs\n",
    "    \n",
    ")"
   ]
  },
  {
   "cell_type": "code",
   "execution_count": null,
   "id": "364914b5",
   "metadata": {},
   "outputs": [],
   "source": []
  }
 ],
 "metadata": {
  "kernelspec": {
   "display_name": "langchain",
   "language": "python",
   "name": "python3"
  },
  "language_info": {
   "codemirror_mode": {
    "name": "ipython",
    "version": 3
   },
   "file_extension": ".py",
   "mimetype": "text/x-python",
   "name": "python",
   "nbconvert_exporter": "python",
   "pygments_lexer": "ipython3",
   "version": "3.10.18"
  }
 },
 "nbformat": 4,
 "nbformat_minor": 5
}
